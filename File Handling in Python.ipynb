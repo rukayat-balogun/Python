{
 "cells": [
  {
   "cell_type": "markdown",
   "id": "f29c53d5",
   "metadata": {},
   "source": [
    "## First Method"
   ]
  },
  {
   "cell_type": "markdown",
   "id": "8bfd5fae",
   "metadata": {},
   "source": [
    "### Create a file"
   ]
  },
  {
   "cell_type": "code",
   "execution_count": null,
   "id": "c66703af",
   "metadata": {},
   "outputs": [],
   "source": [
    "'r' - read\n",
    "'w' - write\n",
    "'a' - append\n",
    "'x' - write\n",
    "rb\n",
    "wb\n",
    "xb"
   ]
  },
  {
   "cell_type": "code",
   "execution_count": 26,
   "id": "8fb2e798",
   "metadata": {},
   "outputs": [],
   "source": [
    "#location where I want to create the file\n",
    "\n",
    "file = open('newfile2.txt' , mode='w') #creates the file or overwrites the file if the file exists\n",
    "file.write(\"\\nThis is a new line\")\n",
    "file.close()"
   ]
  },
  {
   "cell_type": "markdown",
   "id": "ebf3fdd9",
   "metadata": {},
   "source": [
    "### read a file"
   ]
  },
  {
   "cell_type": "code",
   "execution_count": 28,
   "id": "03bde261",
   "metadata": {},
   "outputs": [
    {
     "name": "stdout",
     "output_type": "stream",
     "text": [
      "['Hello Everyone\\n', 'Hey Everyone\\n', 'This is a new line']\n"
     ]
    }
   ],
   "source": [
    "\n",
    "file = open('newfile.txt' , mode='x') #reads the file \n",
    "filelist = print(file.readlines())\n",
    "file.close()"
   ]
  },
  {
   "cell_type": "markdown",
   "id": "75be26e1",
   "metadata": {},
   "source": [
    "### append to a file"
   ]
  },
  {
   "cell_type": "code",
   "execution_count": 19,
   "id": "fb3f2994",
   "metadata": {},
   "outputs": [
    {
     "name": "stdout",
     "output_type": "stream",
     "text": [
      "['Hello Everyone\\n', 'Hey Everyone\\n', 'This is a new line']\n"
     ]
    }
   ],
   "source": [
    "file = open('newfile.txt' , mode='a') #reads the file \n",
    "file.write(\"\\nThis is a new line\")\n",
    "file.close()"
   ]
  },
  {
   "cell_type": "markdown",
   "id": "62128d86",
   "metadata": {},
   "source": [
    "### write to a file"
   ]
  },
  {
   "cell_type": "code",
   "execution_count": null,
   "id": "50c95c6b",
   "metadata": {},
   "outputs": [],
   "source": [
    "#location where I want to create the file\n",
    "\n",
    "file = open('newfile2.txt' , mode='x') #creates the file or returns an error if the file exists\n",
    "file.write(\"\\nThis is a new line\")\n",
    "file.close()"
   ]
  },
  {
   "cell_type": "markdown",
   "id": "048e682b",
   "metadata": {},
   "source": []
  },
  {
   "cell_type": "markdown",
   "id": "75b29dcb",
   "metadata": {},
   "source": [
    "## Second Method"
   ]
  },
  {
   "cell_type": "code",
   "execution_count": 33,
   "id": "e0395263",
   "metadata": {},
   "outputs": [],
   "source": [
    "with open('Users/rukayat/Downloads/PairView/python class/November/newfile4.txt', 'w') as file:\n",
    "    file.write('Hello Earth')"
   ]
  },
  {
   "cell_type": "code",
   "execution_count": 34,
   "id": "5bab55e5",
   "metadata": {},
   "outputs": [],
   "source": [
    "with open('newfile5.txt', 'w') as file:\n",
    "    file.write('Hello Earth')"
   ]
  },
  {
   "cell_type": "code",
   "execution_count": null,
   "id": "58e0c3d5",
   "metadata": {},
   "outputs": [],
   "source": []
  }
 ],
 "metadata": {
  "kernelspec": {
   "display_name": "Python 3",
   "language": "python",
   "name": "python3"
  },
  "language_info": {
   "codemirror_mode": {
    "name": "ipython",
    "version": 3
   },
   "file_extension": ".py",
   "mimetype": "text/x-python",
   "name": "python",
   "nbconvert_exporter": "python",
   "pygments_lexer": "ipython3",
   "version": "3.8.8"
  }
 },
 "nbformat": 4,
 "nbformat_minor": 5
}
